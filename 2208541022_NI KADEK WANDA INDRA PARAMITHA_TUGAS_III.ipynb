{
 "cells": [
  {
   "cell_type": "markdown",
   "id": "d8b73739",
   "metadata": {},
   "source": [
    "# TUGAS III\n",
    "_______________________________________________________________________________________________________________________________"
   ]
  },
  {
   "cell_type": "markdown",
   "id": "1856b622",
   "metadata": {},
   "source": [
    "## STRINGS INDEX"
   ]
  },
  {
   "cell_type": "markdown",
   "id": "15a377b8",
   "metadata": {},
   "source": [
    "Variabel string dapat diurutkan dengan index yang dimulai dari angka 0, dan huruf paling akhir juga dapat didefinisikan sebagai urutan ke -1."
   ]
  },
  {
   "cell_type": "code",
   "execution_count": 1,
   "id": "9c2c2c2b",
   "metadata": {},
   "outputs": [],
   "source": [
    "kelas = 'ini kelas algoritma'"
   ]
  },
  {
   "cell_type": "code",
   "execution_count": 2,
   "id": "56a4d3a5",
   "metadata": {},
   "outputs": [
    {
     "name": "stdout",
     "output_type": "stream",
     "text": [
      "ini\n"
     ]
    }
   ],
   "source": [
    "print(kelas[0:3])"
   ]
  },
  {
   "cell_type": "code",
   "execution_count": 3,
   "id": "a3992a06",
   "metadata": {},
   "outputs": [
    {
     "name": "stdout",
     "output_type": "stream",
     "text": [
      "ini \n"
     ]
    }
   ],
   "source": [
    "print(kelas[0:4])"
   ]
  },
  {
   "cell_type": "markdown",
   "id": "ebded149",
   "metadata": {},
   "source": [
    "_______________________________________________________________________________________________________________________________\n",
    "Kedua contoh di atas memiliki output yang sama, yaitu kata \"ini\". Tapi sebenernya kedua contoh di atas memiliki output yang berbeda. \n",
    "\n",
    "Pada contoh pertama (kelas[0:3]) menghasilkan output \"ini\" tanpa spasi, sedangkan contoh kedua (kelas[0:4]) menghasilkan output \"ini\" dengan spasi dibelakangnya. \n",
    "\n",
    "Jadi dapat disimpulkan bahwa disini 'spasi' juga terhitung sebagai index.\n",
    "_______________________________________________________________________________________________________________________________"
   ]
  },
  {
   "cell_type": "code",
   "execution_count": 4,
   "id": "0391677c",
   "metadata": {},
   "outputs": [
    {
     "name": "stdout",
     "output_type": "stream",
     "text": [
      "ini kela\n"
     ]
    }
   ],
   "source": [
    "print(kelas[0:8])"
   ]
  },
  {
   "cell_type": "code",
   "execution_count": 5,
   "id": "1a4e3546",
   "metadata": {},
   "outputs": [
    {
     "name": "stdout",
     "output_type": "stream",
     "text": [
      "ini kelas algoritm\n"
     ]
    }
   ],
   "source": [
    "print(kelas[0:-1])"
   ]
  },
  {
   "cell_type": "markdown",
   "id": "da008df1",
   "metadata": {},
   "source": [
    "_______________________________________________________________________________________________________________________________\n",
    "Dapat dilihat pada contoh di atas, format strings index outputnya itu satu huruf sebelum huruf dari angka yang kita panggil (indeks huruf + 1). Misal pada variabel 'kelas' di atas, kita coba print kata \"ini kelas\", huruf 's' berada pada indeks angka ke 8, tapi kalo kita ketik [0:8] outputnya hanya \"ini kela\" oleh karena itu harusnya kita ketik [0:9] agar hasilnya sesuai.\n",
    "\n",
    "Begitu juga untuk contoh kedua, agar outputnya menjadi \"ini kelas algoritma\" kita bisa perintahkan untuk print(kelas[0:])\n",
    "_______________________________________________________________________________________________________________________________"
   ]
  },
  {
   "cell_type": "code",
   "execution_count": 6,
   "id": "a256eaee",
   "metadata": {},
   "outputs": [
    {
     "name": "stdout",
     "output_type": "stream",
     "text": [
      "ini kelas\n"
     ]
    }
   ],
   "source": [
    "print(kelas[0:9])"
   ]
  },
  {
   "cell_type": "code",
   "execution_count": 7,
   "id": "ada4138b",
   "metadata": {},
   "outputs": [
    {
     "name": "stdout",
     "output_type": "stream",
     "text": [
      "ini kelas algoritma\n"
     ]
    }
   ],
   "source": [
    "print(kelas[0:])"
   ]
  },
  {
   "cell_type": "code",
   "execution_count": 9,
   "id": "2b098279",
   "metadata": {},
   "outputs": [
    {
     "name": "stdout",
     "output_type": "stream",
     "text": [
      "ini kelas algoritma\n"
     ]
    }
   ],
   "source": [
    "print(kelas[:])"
   ]
  },
  {
   "cell_type": "code",
   "execution_count": 10,
   "id": "c3ccd6c9",
   "metadata": {},
   "outputs": [
    {
     "name": "stdout",
     "output_type": "stream",
     "text": [
      "algoritma\n"
     ]
    }
   ],
   "source": [
    "print(kelas[10:])"
   ]
  },
  {
   "cell_type": "markdown",
   "id": "3e3173f6",
   "metadata": {},
   "source": [
    "_______________________________________________________________________________________________________________________________\n",
    "Ketentuan (indeks huruf + 1) itu hanya berlaku untuk huruf terakhir. Untuk huruf pertama kita tetap gunakan indeks urutan huruf itu sendiri. \n",
    "\n",
    "Bisa dilihat pada contoh diatas, huruf 'a' pada kata \"algoritma\" berada pada urutan ke 10. Oleh karena itu kita ketikkan [10:]\n",
    "_______________________________________________________________________________________________________________________________"
   ]
  },
  {
   "cell_type": "code",
   "execution_count": 11,
   "id": "8359a726",
   "metadata": {},
   "outputs": [],
   "source": [
    "senin = 'hari ini aku bangun pagi'"
   ]
  },
  {
   "cell_type": "code",
   "execution_count": 12,
   "id": "77cbf83c",
   "metadata": {},
   "outputs": [
    {
     "name": "stdout",
     "output_type": "stream",
     "text": [
      " pagi ini aku bangun\n"
     ]
    }
   ],
   "source": [
    "print(senin[-5:]+' '+senin[5:-5])"
   ]
  },
  {
   "cell_type": "code",
   "execution_count": 13,
   "id": "9b8705ec",
   "metadata": {},
   "outputs": [
    {
     "name": "stdout",
     "output_type": "stream",
     "text": [
      "ini kelas bangun pagi\n"
     ]
    }
   ],
   "source": [
    "print(kelas[0:9]+' '+senin[13:])"
   ]
  },
  {
   "cell_type": "code",
   "execution_count": 14,
   "id": "c19cb8b4",
   "metadata": {},
   "outputs": [
    {
     "name": "stdout",
     "output_type": "stream",
     "text": [
      " pagi hari ini ada kelas algoritma\n"
     ]
    }
   ],
   "source": [
    "print(senin[-5:]+' '+senin[0:4]+' '+kelas[:4]+'ada '+kelas[4:])"
   ]
  },
  {
   "cell_type": "markdown",
   "id": "545ce9f1",
   "metadata": {},
   "source": [
    "_______________________________________________________________________________________________________________________________\n",
    "Kita bisa membuat variasi kalimat baru dengan menggabungkan indeks-indeks kata dari variabel yang berbeda seperti pada contoh-contoh di atas.\n",
    "_______________________________________________________________________________________________________________________________"
   ]
  },
  {
   "cell_type": "markdown",
   "id": "4690fcc5",
   "metadata": {},
   "source": [
    "## STRINGS METHODS"
   ]
  },
  {
   "cell_type": "markdown",
   "id": "096780b0",
   "metadata": {},
   "source": [
    "Ada beberapa metode yang dapat digunakan pada variabel berjenis string. "
   ]
  },
  {
   "cell_type": "code",
   "execution_count": 15,
   "id": "32fb5b71",
   "metadata": {},
   "outputs": [],
   "source": [
    "NCT = 'Mark Renjun Jeno Haechan Jaemin Chenle Jisung'\n",
    "#Deklarasi variabel"
   ]
  },
  {
   "cell_type": "code",
   "execution_count": 16,
   "id": "2fd52b0c",
   "metadata": {},
   "outputs": [
    {
     "name": "stdout",
     "output_type": "stream",
     "text": [
      "45\n"
     ]
    }
   ],
   "source": [
    "print(len(NCT))\n",
    "#Metode ini digunakan untuk menghitung jumlah huruf dari variabel yang diminta"
   ]
  },
  {
   "cell_type": "code",
   "execution_count": 17,
   "id": "02715a6d",
   "metadata": {},
   "outputs": [
    {
     "data": {
      "text/plain": [
       "'MARK RENJUN JENO HAECHAN JAEMIN CHENLE JISUNG'"
      ]
     },
     "execution_count": 17,
     "metadata": {},
     "output_type": "execute_result"
    }
   ],
   "source": [
    "NCT.upper()\n",
    "#Metode ini digunakan untuk merubah format huruf pada variabel menjadi huruf kapital"
   ]
  },
  {
   "cell_type": "code",
   "execution_count": 18,
   "id": "bbfc4340",
   "metadata": {},
   "outputs": [
    {
     "data": {
      "text/plain": [
       "'mark renjun jeno haechan jaemin chenle jisung'"
      ]
     },
     "execution_count": 18,
     "metadata": {},
     "output_type": "execute_result"
    }
   ],
   "source": [
    "NCT.lower()\n",
    "#Metode ini digunakan untuk merubah format huruf pada variabel menjadi huruf kecil"
   ]
  },
  {
   "cell_type": "code",
   "execution_count": 19,
   "id": "7ef0ed6c",
   "metadata": {},
   "outputs": [
    {
     "data": {
      "text/plain": [
       "12"
      ]
     },
     "execution_count": 19,
     "metadata": {},
     "output_type": "execute_result"
    }
   ],
   "source": [
    "NCT.find('Jeno')\n",
    "#Metode ini digunakan untuk menghitung urutan huruf pertama dari kata yang kita cari\n",
    "#Untuk urutan indeks huruf dimulai dari angka 0"
   ]
  },
  {
   "cell_type": "code",
   "execution_count": 20,
   "id": "91bfb0cf",
   "metadata": {},
   "outputs": [
    {
     "data": {
      "text/plain": [
       "-1"
      ]
     },
     "execution_count": 20,
     "metadata": {},
     "output_type": "execute_result"
    }
   ],
   "source": [
    "NCT.find('mark')\n",
    "#Pada percobaan ini menghasilkan output -1 dikarenakan kata yang diminta tidak sesuai dengan kata pada variabel\n",
    "#Pada variabel 'mark' didefinisikan dengan huruf 'M' besar"
   ]
  },
  {
   "cell_type": "code",
   "execution_count": 21,
   "id": "679e33e1",
   "metadata": {},
   "outputs": [
    {
     "data": {
      "text/plain": [
       "'Lucas Renjun Jeno Haechan Jaemin Chenle Jisung'"
      ]
     },
     "execution_count": 21,
     "metadata": {},
     "output_type": "execute_result"
    }
   ],
   "source": [
    "NCT.replace('Mark',\"Lucas\")\n",
    "#Metode ini digunakan untuk mengganti kata/kalimat pada variabel dengan kata/kalimat yang diinginkan"
   ]
  },
  {
   "cell_type": "code",
   "execution_count": 22,
   "id": "416958fa",
   "metadata": {},
   "outputs": [
    {
     "data": {
      "text/plain": [
       "'Mark Renjun Jeno Haechan Jaemin Chenle Jisung'"
      ]
     },
     "execution_count": 22,
     "metadata": {},
     "output_type": "execute_result"
    }
   ],
   "source": [
    "NCT.replace('mark',\"Lucas\")\n",
    "#Karena kata 'mark' dengan huruf 'm' kecil tidak ada pada variabel, \n",
    "#maka output yang dihasilkan adalah kalimat pada variabel awal tanpa mengubah apapun"
   ]
  },
  {
   "cell_type": "code",
   "execution_count": 23,
   "id": "7834b0b0",
   "metadata": {},
   "outputs": [
    {
     "name": "stdout",
     "output_type": "stream",
     "text": [
      "True\n"
     ]
    }
   ],
   "source": [
    "print('Jaemin' in NCT)\n",
    "#Metode ini akan menampilkan nilai True jika terdapat kata yang diminta pada variabel yang dideklarasikan"
   ]
  },
  {
   "cell_type": "code",
   "execution_count": 24,
   "id": "92410e1c",
   "metadata": {},
   "outputs": [
    {
     "name": "stdout",
     "output_type": "stream",
     "text": [
      "False\n"
     ]
    }
   ],
   "source": [
    "print('Lucas' in NCT)\n",
    "#Metode ini akan menampilkan nilai False jika kata yang diminta tidak ada pada variabel yang dideklarasikan"
   ]
  },
  {
   "cell_type": "code",
   "execution_count": 25,
   "id": "f432af56",
   "metadata": {},
   "outputs": [],
   "source": [
    "A = 'saya sedang membuat tugas'"
   ]
  },
  {
   "cell_type": "code",
   "execution_count": 28,
   "id": "60ab8560",
   "metadata": {},
   "outputs": [
    {
     "data": {
      "text/plain": [
       "'Saya Sedang Membuat Tugas'"
      ]
     },
     "execution_count": 28,
     "metadata": {},
     "output_type": "execute_result"
    }
   ],
   "source": [
    "A.title()\n",
    "#Metode ini digunakan untuk mengubah karakter pertama dari setiap kata pada variabel menjadi huruf besar"
   ]
  },
  {
   "cell_type": "code",
   "execution_count": 32,
   "id": "06438e06",
   "metadata": {},
   "outputs": [
    {
     "data": {
      "text/plain": [
       "'            saya sedang membuat tugas             '"
      ]
     },
     "execution_count": 32,
     "metadata": {},
     "output_type": "execute_result"
    }
   ],
   "source": [
    "A.center(50)\n",
    "#Metode ini digunakan untuk mengubah text ke tengah sesuai dengan nilai yang diberikan"
   ]
  },
  {
   "cell_type": "code",
   "execution_count": 33,
   "id": "135d1397",
   "metadata": {},
   "outputs": [],
   "source": [
    "HARI = (\"SENIN\", \"SELASA\", \"RABU\", \"KAMIS\", \"JUMAT\", \"SABTU\", \"MINGGU\")"
   ]
  },
  {
   "cell_type": "code",
   "execution_count": 34,
   "id": "9afac60d",
   "metadata": {},
   "outputs": [
    {
     "data": {
      "text/plain": [
       "'SENIN-SELASA-RABU-KAMIS-JUMAT-SABTU-MINGGU'"
      ]
     },
     "execution_count": 34,
     "metadata": {},
     "output_type": "execute_result"
    }
   ],
   "source": [
    "\"-\".join(HARI)\n",
    "#Metode ini digunakan untuk menambahkan elemen ke akhir setiap string"
   ]
  },
  {
   "cell_type": "code",
   "execution_count": 35,
   "id": "d5c7a4f8",
   "metadata": {},
   "outputs": [
    {
     "data": {
      "text/plain": [
       "'M+a+r+k+ +R+e+n+j+u+n+ +J+e+n+o+ +H+a+e+c+h+a+n+ +J+a+e+m+i+n+ +C+h+e+n+l+e+ +J+i+s+u+n+g'"
      ]
     },
     "execution_count": 35,
     "metadata": {},
     "output_type": "execute_result"
    }
   ],
   "source": [
    "\"+\".join(NCT)"
   ]
  },
  {
   "cell_type": "markdown",
   "id": "c0b591ac",
   "metadata": {},
   "source": [
    "\n",
    "_______________________________________________________________________________________________________________________________\n",
    "## OPERASI MATEMATIKA DI PYTHON"
   ]
  },
  {
   "cell_type": "markdown",
   "id": "b58c4231",
   "metadata": {},
   "source": [
    "Terdapat operasi matematika di Python, seperti:"
   ]
  },
  {
   "cell_type": "code",
   "execution_count": 38,
   "id": "7d8d8728",
   "metadata": {},
   "outputs": [
    {
     "name": "stdout",
     "output_type": "stream",
     "text": [
      "20\n",
      "22\n",
      "50\n",
      "3.6666666666666665\n",
      "3\n",
      "1\n",
      "16\n"
     ]
    }
   ],
   "source": [
    "print(7+13)  #Operasi Penjumlahan \n",
    "print(23-1)  #Operasi Pengurangan\n",
    "print(10*5)  #Operasi Perkalian\n",
    "print(11/3)  #Operasi Pembagian\n",
    "print(11//3) #Operasi Pembulatan Pembagian\n",
    "print(10%3)  #Modulo\n",
    "print(2**4)  #Operasi pangkat"
   ]
  },
  {
   "cell_type": "code",
   "execution_count": 41,
   "id": "072ed324",
   "metadata": {},
   "outputs": [
    {
     "name": "stdout",
     "output_type": "stream",
     "text": [
      "5\n",
      "8\n",
      "35\n",
      "5.0\n"
     ]
    }
   ],
   "source": [
    "#AUGMENTED OPERATOR\n",
    "x = 2\n",
    "x+= 3 #perintah ini artinya nilai x sebelumnya dijumlahkan dengan nilai yang diminta (x+3)\n",
    "print(x)\n",
    "\n",
    "y = 10\n",
    "y-= 2 #perintah ini berarti nilai y sebelumnya dikurangkan dengan nilai yang diminta (y-2)\n",
    "print(y)\n",
    "\n",
    "z = 7\n",
    "z*= 5 #perintah ini berarti nilai z sebelumnya dikalikan dengan nilai yang diminta (z*5)\n",
    "print(z)\n",
    "\n",
    "a = 10\n",
    "a/=2 #perintah ini berarti nilai a sebelumnya dibagi dengan nilai yang diminta (a/2)\n",
    "print(a)"
   ]
  },
  {
   "cell_type": "code",
   "execution_count": 42,
   "id": "96dae043",
   "metadata": {},
   "outputs": [
    {
     "name": "stdout",
     "output_type": "stream",
     "text": [
      "10\n"
     ]
    }
   ],
   "source": [
    "x+= 5\n",
    "print(x)\n",
    "#Dapat dilihat bahwa walaupun sebelumnya nilai x=2, tetapi dikarenakan x sudah mengalami operasi penjumlahan dengan 3\n",
    "#Maka nilai x yang terdefinisi adalah nilai x yang terakhir, pada kasus ini nilai x sudah berubah menjadi 5\n",
    "#Oleh karena itulah output yang dihasilkan adalah 10."
   ]
  },
  {
   "cell_type": "code",
   "execution_count": 43,
   "id": "525de44f",
   "metadata": {},
   "outputs": [
    {
     "name": "stdout",
     "output_type": "stream",
     "text": [
      "100\n",
      "5.0\n",
      "20\n"
     ]
    }
   ],
   "source": [
    "#Kita bisa melakukan kombinasi operasi matematika juga\n",
    "print(12*5+20*2)\n",
    "print(5+5-5/5*5)\n",
    "print(4**2+4)"
   ]
  },
  {
   "cell_type": "markdown",
   "id": "15d8f3c2",
   "metadata": {},
   "source": [
    "Kita coba menerapkan operasi matematika pada variable string NCT di atas"
   ]
  },
  {
   "cell_type": "code",
   "execution_count": 44,
   "id": "dd13d081",
   "metadata": {},
   "outputs": [
    {
     "data": {
      "text/plain": [
       "54"
      ]
     },
     "execution_count": 44,
     "metadata": {},
     "output_type": "execute_result"
    }
   ],
   "source": [
    "NCT.find('Jeno') + NCT.find('Jaemin') + NCT.find('Haechan')"
   ]
  },
  {
   "cell_type": "markdown",
   "id": "4dad72af",
   "metadata": {},
   "source": [
    "Pada contoh ini indeks dari setiap huruf awal dijumlahkan.\n",
    "\n",
    "Indeks huruf \"J\" pada 'Jeno' bernilai 12, huruf \"J\" pada 'Jaemin' bernilai 25, huruf \"H\" pada 'Haechan' bernilai 17\n",
    "\n",
    "Ketika ketiga indeks huruf tersebut dijumlahkan maka hasilnya sesuai dengan output, yaitu 54"
   ]
  },
  {
   "cell_type": "code",
   "execution_count": 45,
   "id": "415bcd96",
   "metadata": {},
   "outputs": [
    {
     "data": {
      "text/plain": [
       "987"
      ]
     },
     "execution_count": 45,
     "metadata": {},
     "output_type": "execute_result"
    }
   ],
   "source": [
    "NCT.find('Jeno') + NCT.find ('Jaemin') * NCT.find('Jisung')"
   ]
  },
  {
   "cell_type": "markdown",
   "id": "ba308d0f",
   "metadata": {},
   "source": [
    "Jadi, dapat dilihat bahwa operasi hitung matematika pada string juga dapat dilakukan\n",
    "_______________________________________________________________________________________________________________________________"
   ]
  },
  {
   "cell_type": "markdown",
   "id": "889e6dd5",
   "metadata": {},
   "source": [
    "## OPERATOR PERBANDINGAN DI PYTHON"
   ]
  },
  {
   "cell_type": "markdown",
   "id": "b75c2fc7",
   "metadata": {},
   "source": [
    "Operator perbandingan akan menghasilkan output True atau False tergantung dari data yang kita input.\n",
    "\n",
    "Beberapa operator perbandingan pada python antara lain:"
   ]
  },
  {
   "cell_type": "code",
   "execution_count": 47,
   "id": "1f3ffaac",
   "metadata": {},
   "outputs": [
    {
     "name": "stdout",
     "output_type": "stream",
     "text": [
      "True\n",
      "False\n"
     ]
    }
   ],
   "source": [
    "#'>' digunakan untuk perbandingan lebih besar dari\n",
    "x = 2\n",
    "print(x>1)\n",
    "print(x>3)"
   ]
  },
  {
   "cell_type": "code",
   "execution_count": 49,
   "id": "17568274",
   "metadata": {},
   "outputs": [
    {
     "name": "stdout",
     "output_type": "stream",
     "text": [
      "False\n",
      "True\n"
     ]
    }
   ],
   "source": [
    "#'<' digunakan untuk perbandingan lebih kecil dari\n",
    "print(10<5)\n",
    "print(2<5)"
   ]
  },
  {
   "cell_type": "code",
   "execution_count": 50,
   "id": "7d7ceb3e",
   "metadata": {},
   "outputs": [
    {
     "name": "stdout",
     "output_type": "stream",
     "text": [
      "True\n",
      "True\n",
      "False\n"
     ]
    }
   ],
   "source": [
    "#'<=' digunakan untuk perbandingan lebih kecil sama dengan\n",
    "y = 10\n",
    "print(y<=20)\n",
    "print(y<=10)\n",
    "print(y<=5)"
   ]
  },
  {
   "cell_type": "code",
   "execution_count": 51,
   "id": "3cb4333f",
   "metadata": {},
   "outputs": [
    {
     "name": "stdout",
     "output_type": "stream",
     "text": [
      "True\n",
      "False\n",
      "True\n"
     ]
    }
   ],
   "source": [
    "#'>=' digunakan untuk perbandingan lebih besar sama dengan\n",
    "print(10>=2)\n",
    "print(10>=10.5)\n",
    "print(10>=10)"
   ]
  },
  {
   "cell_type": "code",
   "execution_count": 52,
   "id": "2c86d8d8",
   "metadata": {},
   "outputs": [
    {
     "name": "stdout",
     "output_type": "stream",
     "text": [
      "True\n",
      "False\n"
     ]
    }
   ],
   "source": [
    "#'==' digunakan untuk perbandingan sama dengan\n",
    "print(3==3)\n",
    "print(3==3.5)"
   ]
  },
  {
   "cell_type": "code",
   "execution_count": 53,
   "id": "eab94203",
   "metadata": {},
   "outputs": [
    {
     "name": "stdout",
     "output_type": "stream",
     "text": [
      "False\n",
      "True\n"
     ]
    }
   ],
   "source": [
    "#'!=' digunakan untuk perbandingan tidak sama dengan\n",
    "print(3!=3)\n",
    "print(3!=3.5)"
   ]
  },
  {
   "cell_type": "code",
   "execution_count": 55,
   "id": "cd90d5f1",
   "metadata": {},
   "outputs": [
    {
     "name": "stdout",
     "output_type": "stream",
     "text": [
      "True\n",
      "False\n",
      "False\n"
     ]
    }
   ],
   "source": [
    "#Kita coba dengan operasi matematika\n",
    "print(3==9/3)\n",
    "print(4>8/2)\n",
    "print(5>2*3)"
   ]
  },
  {
   "cell_type": "markdown",
   "id": "06d66c1f",
   "metadata": {},
   "source": [
    "_______________________________________________________________________________________________________________________________\n",
    "## OPERATOR LOGIKA DI PYTHON"
   ]
  },
  {
   "cell_type": "markdown",
   "id": "8397955a",
   "metadata": {},
   "source": [
    "Beberapa operator logika pada Python adalah 'and', 'or' dan 'not'. \n",
    "Operator 'and' akan bernilai True jika kedua nilai adalah True. \n",
    "Operator 'or' akan bernilai True jika salah satu nilainya adalah True. \n",
    "Sedangkan, operator 'not' akan menghasilkan nilai yang berlawanan."
   ]
  },
  {
   "cell_type": "code",
   "execution_count": 57,
   "id": "9aabccac",
   "metadata": {},
   "outputs": [],
   "source": [
    "NCT = 23\n",
    "SVT = 13\n",
    "BTS = 7\n",
    "TXT = 5"
   ]
  },
  {
   "cell_type": "code",
   "execution_count": 58,
   "id": "b4e7ef9c",
   "metadata": {},
   "outputs": [
    {
     "name": "stdout",
     "output_type": "stream",
     "text": [
      "True\n"
     ]
    }
   ],
   "source": [
    "print (NCT<24 and NCT>20)\n",
    "#NCT dideklarasikan bernilai 23, maka kedua pernyataan tersebut bernilai benar, sehingga outputnya adalah True"
   ]
  },
  {
   "cell_type": "code",
   "execution_count": 59,
   "id": "8f813720",
   "metadata": {},
   "outputs": [
    {
     "name": "stdout",
     "output_type": "stream",
     "text": [
      "False\n"
     ]
    }
   ],
   "source": [
    "print (SVT>=13 and SVT>=14)\n",
    "#SVT didefinisikan bernilai 13, sehingga pernyataan pertama bernilai benar dan pernyataan kedua bernilai salah\n",
    "#akan tetapi output yang dihasilkan adalah False dikarenakan kita menggunakan operator 'and' dimana kedua pernyataan harus bernilai benar"
   ]
  },
  {
   "cell_type": "code",
   "execution_count": 60,
   "id": "627a1320",
   "metadata": {},
   "outputs": [
    {
     "name": "stdout",
     "output_type": "stream",
     "text": [
      "False\n"
     ]
    }
   ],
   "source": [
    "print (BTS==TXT and TXT>NCT)\n",
    "#Kedua pernyataan tersebut bernilai salah sehingga outputnya adalah False"
   ]
  },
  {
   "cell_type": "code",
   "execution_count": 61,
   "id": "2538e16d",
   "metadata": {},
   "outputs": [
    {
     "name": "stdout",
     "output_type": "stream",
     "text": [
      "True\n"
     ]
    }
   ],
   "source": [
    "print (NCT>SVT or BTS<SVT)\n",
    "#Kedua pernyataan ini bernilai benar"
   ]
  },
  {
   "cell_type": "code",
   "execution_count": 62,
   "id": "2444cbe1",
   "metadata": {},
   "outputs": [
    {
     "name": "stdout",
     "output_type": "stream",
     "text": [
      "True\n"
     ]
    }
   ],
   "source": [
    "print (NCT==BTS or BTS>TXT)\n",
    "#Pernyataan pertama bernilai salah, sedangkan pernyataan kedua bernilai benar\n",
    "#Karena kita menggunakan operator 'or' dimana ketika salah satu pertanyaan bernilai benar maka outputnya tetap True"
   ]
  },
  {
   "cell_type": "code",
   "execution_count": 63,
   "id": "c916da19",
   "metadata": {},
   "outputs": [
    {
     "name": "stdout",
     "output_type": "stream",
     "text": [
      "False\n"
     ]
    }
   ],
   "source": [
    "print (SVT==23 or TXT>NCT)\n",
    "#Operator 'or' akan bernilai False jika kedua pernyataan bernilai salah"
   ]
  },
  {
   "cell_type": "code",
   "execution_count": 64,
   "id": "7e2b42f0",
   "metadata": {},
   "outputs": [
    {
     "name": "stdout",
     "output_type": "stream",
     "text": [
      "False\n"
     ]
    }
   ],
   "source": [
    "print(not(NCT==23 and SVT==13))\n",
    "#Walaupun kedua pernyataan tersebut bernilai benar\n",
    "#tetapi karna kita menggunakan operator 'not' maka outputnya akan menjadi kebalikannya"
   ]
  },
  {
   "cell_type": "code",
   "execution_count": 67,
   "id": "1cdc3555",
   "metadata": {},
   "outputs": [
    {
     "name": "stdout",
     "output_type": "stream",
     "text": [
      "True\n"
     ]
    }
   ],
   "source": [
    "print(not(BTS>10 or TXT<4))\n",
    "#Kedua pernyataan tersebut bernilai salah\n",
    "#Operator 'not' membuat outputnya menjadi True "
   ]
  },
  {
   "cell_type": "markdown",
   "id": "f12ebe61",
   "metadata": {},
   "source": [
    "_______________________________________________________________________________________________________________________________\n",
    "## OPERATOR IF DI PYTHON"
   ]
  },
  {
   "cell_type": "markdown",
   "id": "a27e0a51",
   "metadata": {},
   "source": [
    "Operator if akan dijalankan apabila nilai variabel yang dijalankan adalah TRUE. Sedangkan jika nilainya adalah FALSE, maka tidak akan dijalankan/berhenti."
   ]
  },
  {
   "cell_type": "code",
   "execution_count": 68,
   "id": "3bb5b9a4",
   "metadata": {},
   "outputs": [
    {
     "name": "stdout",
     "output_type": "stream",
     "text": [
      "Masukkan nilaimu 65\n",
      "Kamu mendapatkan nilai C\n",
      "Lain kali harus lebih baik.\n"
     ]
    }
   ],
   "source": [
    "Nilai = float(input('Masukkan nilaimu '))\n",
    "if Nilai >=80:\n",
    "    print(\"Kamu mendapatkan nilai A\")\n",
    "    print(\"Hebat! Pertahankan\")\n",
    "if Nilai < 80 and Nilai >= 70:\n",
    "    print(\"Kamu mendapatkan nilai B\")\n",
    "    print(\"Tingkatkan lagi yaa!\")\n",
    "if Nilai < 70 and Nilai >= 60:\n",
    "    print(\"Kamu mendapatkan nilai C\")\n",
    "    print(\"Lain kali harus lebih baik.\")\n",
    "if Nilai < 60 and Nilai >= 50:\n",
    "    print(\"Anda mendapatkan nilai D\")\n",
    "    print(\"Ulangi lagi tahun depan!\")\n",
    "if Nilai <50:\n",
    "    print(\"Anda mendapatkan nilai E\")\n",
    "    print(\"Sampai jumpa tahun depan!\")"
   ]
  },
  {
   "cell_type": "code",
   "execution_count": 69,
   "id": "53573970",
   "metadata": {},
   "outputs": [
    {
     "name": "stdout",
     "output_type": "stream",
     "text": [
      "Berapakah tinggi anda? 164\n",
      "Tingginya dalam cm atau inci? CM\n",
      "Tinggi anda adalah 64.566964 inci\n"
     ]
    }
   ],
   "source": [
    "#Program merubah tinggi badan seseorang dari cm ke inci atau sebaliknya dari inci ke cm.\n",
    "tinggi = float(input(\"Berapakah tinggi anda? \"))\n",
    "cm_atau_inci = input(\"Tingginya dalam cm atau inci? \")\n",
    "\n",
    "if cm_atau_inci.upper() == 'CM':\n",
    "    tinggi = tinggi*0.393701\n",
    "    print(\"Tinggi anda adalah \" + str(tinggi) + \" inci\")\n",
    "elif cm_atau_inci.upper() == 'INCI':\n",
    "    tinggi = tinggi/0.393701\n",
    "    print(f\"Tinggi anda adalah {tinggi} cm\")"
   ]
  }
 ],
 "metadata": {
  "kernelspec": {
   "display_name": "Python 3 (ipykernel)",
   "language": "python",
   "name": "python3"
  },
  "language_info": {
   "codemirror_mode": {
    "name": "ipython",
    "version": 3
   },
   "file_extension": ".py",
   "mimetype": "text/x-python",
   "name": "python",
   "nbconvert_exporter": "python",
   "pygments_lexer": "ipython3",
   "version": "3.9.13"
  }
 },
 "nbformat": 4,
 "nbformat_minor": 5
}
