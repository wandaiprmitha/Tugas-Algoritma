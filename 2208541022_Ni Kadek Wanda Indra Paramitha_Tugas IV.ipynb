{
 "cells": [
  {
   "cell_type": "markdown",
   "id": "e1275314",
   "metadata": {},
   "source": [
    "# 5.11 *While loop*"
   ]
  },
  {
   "cell_type": "markdown",
   "id": "87612b77",
   "metadata": {},
   "source": [
    "***While*** *loop* akan selalu dieksekusi secara berulang-ulang selama syarat perulangan terpenuhi. Syarat yang dimaksud disini adalah sebuah operasi yang menghasilkan nilai *True* atau *False*.   "
   ]
  },
  {
   "cell_type": "code",
   "execution_count": 1,
   "id": "1a4cdb4c",
   "metadata": {},
   "outputs": [
    {
     "name": "stdout",
     "output_type": "stream",
     "text": [
      "Angka 0 masih di bawah 5\n",
      "Angka 1 masih di bawah 5\n",
      "Angka 2 masih di bawah 5\n",
      "Angka 3 masih di bawah 5\n",
      "Angka 4 masih di bawah 5\n",
      "\n",
      "*\n",
      "**\n",
      "***\n",
      "****\n"
     ]
    }
   ],
   "source": [
    "a = 0 \n",
    "while a < 5:\n",
    "    print(\"Angka \"+str(a)+\" masih di bawah 5\")\n",
    "    a += 1\n",
    "\n",
    "b = 0 \n",
    "while b<5:\n",
    "    print(b*'*')\n",
    "    b += 1"
   ]
  },
  {
   "cell_type": "code",
   "execution_count": 2,
   "id": "199f572b",
   "metadata": {},
   "outputs": [
    {
     "name": "stdout",
     "output_type": "stream",
     "text": [
      "Masukkan tinggi segitiga: 7\n",
      "        *\n",
      "       ***\n",
      "      *****\n",
      "     *******\n",
      "    *********\n",
      "   ***********\n",
      "  *************\n"
     ]
    }
   ],
   "source": [
    "#%%%%%%%%%%%%%%%%%%%%%%%%%%%%%%%%%%%%%%%%%%%%%%%%%%%%%%%%%%%%%%%%%%%%%%%%%%%%%%%%%%%%%%%%%%%%%%%%%%%%%%%%%%%%%%%%%%%%%%%%%%%%%%%\n",
    "#PROGRAM MEMBUAT SEGITIGA \n",
    "#%%%%%%%%%%%%%%%%%%%%%%%%%%%%%%%%%%%%%%%%%%%%%%%%%%%%%%%%%%%%%%%%%%%%%%%%%%%%%%%%%%%%%%%%%%%%%%%%%%%%%%%%%%%%%%%%%%%%%%%%%%%%%%%\n",
    "\n",
    "a = int(input('Masukkan tinggi segitiga: ')) #Melakukan input dengan tipe data integer untuk menentukan tinggi segitiga\n",
    "b = 1\n",
    "c = 1\n",
    "#Memberikan nilai awal pada variabel b dan c yang berfungsi untuk menentukan tinggi segitiganya.\n",
    "#Bila variabel b diberi nilai awal 0, maka tinggi segitiga akan lebih satu dari input di a\n",
    "#variabel c berfungsi untuk mencetak segitiga dengan '*'\n",
    "while b <= a:\n",
    "#bila nilai dari variabel b lebih kecil atau sama dengan a, maka akan melakukan statement dibawahnya sampai kondisi bernilai false.\n",
    "    print(' '*a, '*'*c)\n",
    "    #statement diatas berfungsi untuk mencetak spasi yang dikali dengan nilai dari variabel a \n",
    "    #dilanjutkan dengan mencetak '*' yang dikali dengan nilai dari variabel c\n",
    "    c+=2\n",
    "    a-=1\n",
    "    #variabel c ditambah nilainya dengan 2 dan nilai dari variabel a dikurangi 1\n",
    "\n",
    "#Jika program dijalankan, maka akan menghasilkan output seperti dibawah ini."
   ]
  },
  {
   "cell_type": "code",
   "execution_count": 3,
   "id": "09fbcbeb",
   "metadata": {},
   "outputs": [
    {
     "name": "stdout",
     "output_type": "stream",
     "text": [
      "Masukkan angka: 10\n",
      "hasil dari 10 kuadrat adalah 100\n",
      "hasil dari 9 kuadrat adalah 81\n",
      "hasil dari 8 kuadrat adalah 64\n",
      "hasil dari 7 kuadrat adalah 49\n",
      "hasil dari 6 kuadrat adalah 36\n",
      "hasil dari 5 kuadrat adalah 25\n",
      "hasil dari 4 kuadrat adalah 16\n",
      "hasil dari 3 kuadrat adalah 9\n",
      "hasil dari 2 kuadrat adalah 4\n",
      "hasil dari 1 kuadrat adalah 1\n"
     ]
    }
   ],
   "source": [
    "# Program menghitung kuadrat n bilangan\n",
    "angka = int(input('Masukkan angka: '))\n",
    "x=1\n",
    "while x <= angka:\n",
    "    kuadrat = angka**2\n",
    "    print(\"hasil dari \"+str(angka)+\" kuadrat adalah \"+str(kuadrat))\n",
    "    angka-=1"
   ]
  },
  {
   "cell_type": "markdown",
   "id": "d0bfcb09",
   "metadata": {},
   "source": [
    "# 5.12 *List* di Python"
   ]
  },
  {
   "cell_type": "markdown",
   "id": "23994e90",
   "metadata": {},
   "source": [
    "Tipe data list adalah tipe data koleksi yang bersifat *ordered* (terurut) dan juga bersifat *changable* (dapat diubah)."
   ]
  },
  {
   "cell_type": "code",
   "execution_count": 4,
   "id": "a580b5cd",
   "metadata": {},
   "outputs": [],
   "source": [
    "#%%%%%%%%%%%%%%%%%%%%%%%%%%%%%%%%%%%%%%%%%%%%%%%%%%%%%%%%%%%%%%%%%%%%%%%%%%%%%%%%%%%%%%%%%%%%%%%%%%%%%%%%%%%%%%%%%%%%%%%%%%%%%%%\n",
    "#KODE PROGRAM 1\n",
    "#Cara membuat list\n",
    "#%%%%%%%%%%%%%%%%%%%%%%%%%%%%%%%%%%%%%%%%%%%%%%%%%%%%%%%%%%%%%%%%%%%%%%%%%%%%%%%%%%%%%%%%%%%%%%%%%%%%%%%%%%%%%%%%%%%%%%%%%%%%%%%\n",
    "\n",
    "#list kosong\n",
    "list_kosong = []\n",
    "#List yang berisi kumpulan string\n",
    "list_hewan = ['anjing', 'kucing', 'burung', 'ikan']\n",
    "#list yang berisi kumpulan integer\n",
    "list_nilai = [70, 80, 90, 100]\n",
    "#list campuran berbagai tipe data\n",
    "list_jawaban = [164, 60.3, 'Perempuan', True]"
   ]
  },
  {
   "cell_type": "markdown",
   "id": "220e590d",
   "metadata": {},
   "source": [
    "Pada **Kode Program 1**, kita lihat bahwa **sebuah list didefinisikan menggunakan tanda kurung siku ([ ])**.\n",
    "\n",
    "Dapat juga kita lihat bahwa list pada python bisa berisi berbagai macam tipe data. Bisa terdiri dari tipe data yang sejenis maupun dari tipe data yang berbeda-beda."
   ]
  },
  {
   "cell_type": "code",
   "execution_count": 5,
   "id": "cb94486d",
   "metadata": {},
   "outputs": [
    {
     "name": "stdout",
     "output_type": "stream",
     "text": [
      "list_kosong  []\n",
      "list_hewan   ['anjing', 'kucing', 'burung', 'ikan']\n",
      "list_nilai   [70, 80, 90, 100]\n",
      "list_jawaban [164, 60.3, 'Perempuan', True]\n"
     ]
    }
   ],
   "source": [
    "#%%%%%%%%%%%%%%%%%%%%%%%%%%%%%%%%%%%%%%%%%%%%%%%%%%%%%%%%%%%%%%%%%%%%%%%%%%%%%%%%%%%%%%%%%%%%%%%%%%%%%%%%%%%%%%%%%%%%%%%%%%%%%%%\n",
    "#Cara Menampilkan List\n",
    "#%%%%%%%%%%%%%%%%%%%%%%%%%%%%%%%%%%%%%%%%%%%%%%%%%%%%%%%%%%%%%%%%%%%%%%%%%%%%%%%%%%%%%%%%%%%%%%%%%%%%%%%%%%%%%%%%%%%%%%%%%%%%%%%\n",
    "\n",
    "#kita bisa menggunakan perintah print() untuk melihat isi dari sebuah list, baik secara menyeluruh maupun sebagian.\n",
    "#Pada kode program 1 di atas, tambahkan kode program berikut ini untuk menampilkan semua isi dari list:\n",
    "print('list_kosong ', list_kosong)\n",
    "print('list_hewan  ', list_hewan)\n",
    "print('list_nilai  ', list_nilai)\n",
    "print('list_jawaban', list_jawaban)"
   ]
  },
  {
   "cell_type": "code",
   "execution_count": 6,
   "id": "ee6b412f",
   "metadata": {},
   "outputs": [
    {
     "name": "stdout",
     "output_type": "stream",
     "text": [
      "anjing\n",
      "100\n",
      "Perempuan \n",
      "\n",
      "ikan\n",
      "90\n",
      "60.3\n"
     ]
    }
   ],
   "source": [
    "#Kita juga bisa menampilkan isi tertentu dari list dengan menggunakan indeks.\n",
    "#Setiap data pada list memiliki indeks sebagai alamat. Indeks dimulai dari 0.\n",
    "print(list_hewan[0])\n",
    "print(list_nilai[3])\n",
    "print(list_jawaban[2], '\\n') #'\\n' berfungsi untuk mencetak enter\n",
    "\n",
    "#Kita juga bisa menggunakan indeks negatif untuk menampilkan data dari belakang.\n",
    "#NB: yang perlu diperhatikan adalah bahwa indeks negatif tidak dimulai dari 0, akan tetapi dimulai dari angka 1.\n",
    "print(list_hewan[-1])\n",
    "print(list_nilai[-2])\n",
    "print(list_jawaban[-3])"
   ]
  },
  {
   "cell_type": "markdown",
   "id": "b3d96991",
   "metadata": {},
   "source": [
    "# 5.13 Metoda *List*"
   ]
  },
  {
   "cell_type": "markdown",
   "id": "bdb6ca93",
   "metadata": {},
   "source": [
    "List adalah tipe data yang bersifat *changable* alias dapat diubah. Kita dapat memanipulasinya dengan menambahkan atau menghilangkan isinya. \n",
    "\n",
    "Beberapa prosedur list dapat dilihat sebagai berikut."
   ]
  },
  {
   "cell_type": "code",
   "execution_count": 7,
   "id": "2c429f66",
   "metadata": {},
   "outputs": [
    {
     "name": "stdout",
     "output_type": "stream",
     "text": [
      "['Jeruk', 'Pisang', 'Anggur', 'Pepaya']\n",
      "['Nanas', 'Pisang', 'Anggur', 'Pepaya']\n",
      "['Nanas', 'Pisang', 'Anggur', 'Mangga']\n",
      "['Nanas', 'Melon', 'Stroberi', 'Mangga']\n"
     ]
    }
   ],
   "source": [
    "#%%%%%%%%%%%%%%%%%%%%%%%%%%%%%%%%%%%%%%%%%%%%%%%%%%%%%%%%%%%%%%%%%%%%%%%%%%%%%%%%%%%%%%%%%%%%%%%%%%%%%%%%%%%%%%%%%%%%%%%%%%%%%%%\n",
    "#MENGUBAH DATA DI DALAM LIST\n",
    "#%%%%%%%%%%%%%%%%%%%%%%%%%%%%%%%%%%%%%%%%%%%%%%%%%%%%%%%%%%%%%%%%%%%%%%%%%%%%%%%%%%%%%%%%%%%%%%%%%%%%%%%%%%%%%%%%%%%%%%%%%%%%%%%\n",
    "\n",
    "list_buah = ['Jeruk', 'Pisang', 'Anggur', 'Pepaya']\n",
    "print(list_buah)\n",
    "\n",
    "#ubah data pertama\n",
    "list_buah[0] = 'Nanas'\n",
    "print(list_buah)\n",
    "\n",
    "#ubah data terakhir\n",
    "list_buah[-1] = 'Mangga'\n",
    "print(list_buah)\n",
    "\n",
    "\n",
    "#Program akan menyimpan setiap perubahan data. \n",
    "\n",
    "\n",
    "#Kita juga bisa mengubah data dalam range tertentu secara sekaligus\n",
    "#Pada kode program di atas, kita tambahkan lagi kode program sebagai berikut:\n",
    "list_buah[1:3] = ['Melon', 'Stroberi']\n",
    "print(list_buah)\n",
    "#Maka kita akan mendapati bahwa nilai 'Pisang' dan 'Anggur' akan berubah menjadi 'Melon' dan 'Stroberi'"
   ]
  },
  {
   "cell_type": "code",
   "execution_count": 8,
   "id": "76f4ddf7",
   "metadata": {},
   "outputs": [
    {
     "name": "stdout",
     "output_type": "stream",
     "text": [
      "['Nanas', 'Melon', 'Stroberi', 'Mangga']\n",
      "['Nanas', 'Melon', 'Stroberi', 'Mangga', 'Sirsak']\n",
      "['Manggis', 'Nanas', 'Melon', 'Stroberi', 'Mangga', 'Sirsak']\n",
      "['Manggis', 'Nanas', 'Melon', 'Semangka', 'Stroberi', 'Mangga', 'Sirsak']\n"
     ]
    }
   ],
   "source": [
    "#%%%%%%%%%%%%%%%%%%%%%%%%%%%%%%%%%%%%%%%%%%%%%%%%%%%%%%%%%%%%%%%%%%%%%%%%%%%%%%%%%%%%%%%%%%%%%%%%%%%%%%%%%%%%%%%%%%%%%%%%%%%%%%%\n",
    "#MENAMBAHKAN ITEM KE DALAM LIST\n",
    "#%%%%%%%%%%%%%%%%%%%%%%%%%%%%%%%%%%%%%%%%%%%%%%%%%%%%%%%%%%%%%%%%%%%%%%%%%%%%%%%%%%%%%%%%%%%%%%%%%%%%%%%%%%%%%%%%%%%%%%%%%%%%%%%\n",
    "\n",
    "#KODE PROGRAM UNTUK MENAMBAHKAN DATA DI BELAKANG\n",
    "#Kita bisa menggunakan fungsi append().\n",
    "#Fungsi ini menerima satu parameter, yang mana parameter tersebut akan dimasukkan sebagai nilai baru pada list\n",
    "#Nilai baru tersebut berada pada akhir item\n",
    "list_buah = ['Nanas', 'Melon', 'Stroberi', 'Mangga']\n",
    "print(list_buah)\n",
    "#tambah data di belakang list\n",
    "list_buah.append('Sirsak')\n",
    "print(list_buah)\n",
    "\n",
    "\n",
    "#KODE PROGRAM UNTUK MENAMBAHKAN DATA DI DEPAN \n",
    "#Kita juga bisa menambahkan item ke dalam list dengan menggunakan fungsi insert()\n",
    "#Fungsi insert ini menerima dua buah parameter:\n",
    "    #1. Parameter pertama untuk mendefinisikan posisi indeks dari data yang akan dimasukkan\n",
    "    #2. Parameter kedua untuk mendefinisikan nilai yang akan dimasukkan ke dalam list\n",
    "#Berikut ini contoh untuk memasukkan nilai 'Manggis' ke dalam list_buah pada indeks 0\n",
    "list_buah.insert(0, 'Manggis')\n",
    "print(list_buah)\n",
    "\n",
    "#KODE PROGRAM UNTUK MENAMBAHKAN DATA DIMANA PUN\n",
    "#Tidak hanya terbatas indeks 0, kita juga bisa memasukkan nilai pada indeks berapapun pada list\n",
    "list_buah.insert(3, 'Semangka')\n",
    "print(list_buah)\n",
    "\n",
    "#Jika ketiga kode program di atas dijalankan, maka kita akan mendapatkan output seperti berikut: "
   ]
  },
  {
   "cell_type": "code",
   "execution_count": 9,
   "id": "83cc16ff",
   "metadata": {},
   "outputs": [
    {
     "name": "stdout",
     "output_type": "stream",
     "text": [
      "[1, 2, 3, 4, 5]\n",
      "angka yang terhapus:  5\n",
      "[1, 2, 3, 4] \n",
      "\n",
      "\n",
      "['Mark', 'Jaehyun', 'Haechan', 'Taeyong', 'Jeno', 'Mark', 'Jaemin', 'Haechan']\n",
      "['Jaehyun', 'Taeyong', 'Jeno', 'Mark', 'Jaemin', 'Haechan'] \n",
      "\n",
      "\n",
      "['Senin', 'Rabu', 'Jumat', 'Senin']\n",
      "['Rabu', 'Jumat', 'Senin']\n",
      "['Senin']\n"
     ]
    }
   ],
   "source": [
    "#%%%%%%%%%%%%%%%%%%%%%%%%%%%%%%%%%%%%%%%%%%%%%%%%%%%%%%%%%%%%%%%%%%%%%%%%%%%%%%%%%%%%%%%%%%%%%%%%%%%%%%%%%%%%%%%%%%%%%%%%%%%%%%%\n",
    "#KODE PROGRAM UNTUK MENGHAPUS ITEM DARI LIST\n",
    "#----------------------------------------------------------------------------------------------------------\n",
    "#Untuk menghapus item dari list, kita bisa menggunakan dua buah fungsi; fungsi pop() dan fungsi remove()\n",
    "#Kita juga bisa menggunakan statement del\n",
    "#%%%%%%%%%%%%%%%%%%%%%%%%%%%%%%%%%%%%%%%%%%%%%%%%%%%%%%%%%%%%%%%%%%%%%%%%%%%%%%%%%%%%%%%%%%%%%%%%%%%%%%%%%%%%%%%%%%%%%%%%%%%%%%%\n",
    "\n",
    "#KODE PROGRAM UNTUK MENGHAPUS ITEM DENGAN FUNGSI pop()\n",
    "#Fungsi pop() akan mengambil item terakhir dari sebuah list, lalu menghapusnya.\n",
    "#Karena ia \"mengambil\", maka kita bisa menyimpan hasil kembalian dari fungsi pop() ke sebuah variabel\n",
    "list_angka = [1,2,3,4,5]\n",
    "print(list_angka)\n",
    "#hapus satu angka dibelakang\n",
    "angka_terhapus = list_angka.pop()\n",
    "print('angka yang terhapus: ', angka_terhapus)\n",
    "print(list_angka, \"\\n\"*2) #'\\n'*2 berfungsi untuk mencetak double enter\n",
    "\n",
    "\n",
    "#KODE PROGRAM UNTUK MENGHAPUS DENGAN FUNGSI remove()\n",
    "#Fungsi ini akan menghapus data sesuai dengan parameter yang dimasukkan.\n",
    "list_nama = ['Mark', 'Jaehyun', 'Haechan', 'Taeyong', 'Jeno', 'Mark', 'Jaemin', 'Haechan']\n",
    "print(list_nama)\n",
    "#hapus item yang sama dengan nilai 'Mark' dan 'Haechan'\n",
    "list_nama.remove('Mark')\n",
    "list_nama.remove('Haechan')\n",
    "print(list_nama, '\\n'*2)\n",
    "\n",
    "\n",
    "#KODE PROGRAM UNTUK MENGHAPUS DENGAN STATEMENT del\n",
    "#Kita juga bisa menghapus item pada list dengan menggunakan statement del. \n",
    "#Dengan statement ini, kita bisa menghapus indeks berapapun dari item list.\n",
    "list_hari = ['Senin', 'Rabu', 'Jumat', 'Senin']\n",
    "print(list_hari)\n",
    "\n",
    "del list_hari[0]\n",
    "print(list_hari)\n",
    "\n",
    "del list_hari[0:2]\n",
    "print(list_hari)"
   ]
  },
  {
   "cell_type": "code",
   "execution_count": 10,
   "id": "554cda5a",
   "metadata": {},
   "outputs": [
    {
     "name": "stdout",
     "output_type": "stream",
     "text": [
      "OUTPUT PENGGABUNGAN 3 LIST: \n",
      "[1, 2, 3, 'a', 'b', True, False] \n",
      "\n",
      "OUTPUT MENGURUTKAN DATA:\n",
      "['Gunggek', 'Marsanda', 'Tya', 'Wanda']\n",
      "balikkan data:  ['Wanda', 'Tya', 'Marsanda', 'Gunggek'] \n",
      "\n",
      "OUTPUT PENGGUNAKAN OPERATOR \"in\"\n",
      "True\n",
      "False\n"
     ]
    }
   ],
   "source": [
    "#KODE PROGRAM UNTUK MENGGABUNGKAN DUA BUAH LIST ATAU LEBIH\n",
    "a = [1,2,3]\n",
    "b = ['a', 'b']\n",
    "c = [True, False]\n",
    "#Kita bisa menggabungkan ketiga variable di atas dengan menggunakan operator +\n",
    "listBaru = a + b + c\n",
    "print('OUTPUT PENGGABUNGAN 3 LIST: ')\n",
    "print(listBaru, '\\n')\n",
    "\n",
    "#KODE PROGRAM UNTUK MENGURUTKAN DATA\n",
    "#kita bisa mengurutkan data list pada python dengan memanggil fungsi sort()\n",
    "#data akan terurut secara ascending\n",
    "list_4 = ['Tya', 'Wanda', 'Marsanda', 'Gunggek']\n",
    "\n",
    "#urutkan secara ascending\n",
    "list_4.sort()\n",
    "print('OUTPUT MENGURUTKAN DATA:')\n",
    "print(list_4)\n",
    "\n",
    "#membalikkan posisi item list (tidak harus berurut)\n",
    "list_4.reverse()\n",
    "print('balikkan data: ', list_4, '\\n')\n",
    "\n",
    "#kita bisa mengecek keberadaan suatu data pada variabel dengan menggunakan operator 'in'\n",
    "#operator ini bertipe data boolean (True/False)\n",
    "print('OUTPUT PENGGUNAKAN OPERATOR \"in\"')\n",
    "#contoh syntaks yang akan bernilai True karena data ada pada variable\n",
    "print('Wanda' in list_4) \n",
    "#contoh syntaks yang akan bernilai False karena data tidak ada pada variable\n",
    "print('Karistya' in list_4)"
   ]
  },
  {
   "cell_type": "markdown",
   "id": "0559a622",
   "metadata": {},
   "source": [
    "# 5.14 *For loop*"
   ]
  },
  {
   "cell_type": "code",
   "execution_count": 11,
   "id": "5e5181e4",
   "metadata": {},
   "outputs": [
    {
     "name": "stdout",
     "output_type": "stream",
     "text": [
      "a\n",
      "l\n",
      "g\n",
      "o\n",
      "r\n",
      "i\n",
      "t\n",
      "m\n",
      "a\n"
     ]
    }
   ],
   "source": [
    "#%%%%%%%%%%%%%%%%%%%%%%%%%%%%%%%%%%%%%%%%%%%%%%%%%%%%%%%%%%%%%%%%%%%%%%%%%%%%%%%%%%%%%%%%%%%%%%%%%%%%%%%%%%%%%%%%%%%%%%%%%%%%%%%\n",
    "#CETAK HURUF INDIVIDUAL DARI SEBUAH STRING MENGGUNAKAN FOR LOOP\n",
    "#%%%%%%%%%%%%%%%%%%%%%%%%%%%%%%%%%%%%%%%%%%%%%%%%%%%%%%%%%%%%%%%%%%%%%%%%%%%%%%%%%%%%%%%%%%%%%%%%%%%%%%%%%%%%%%%%%%%%%%%%%%%%%%%\n",
    "\n",
    "kata = 'algoritma'\n",
    "for letter in kata:\n",
    "    print(letter)\n",
    "#alasan mengapa loop ini berfungsi adalah karena Python menganggap \"string\" sebagai urutan karakter alih-alih melihat secara keseluruhan "
   ]
  },
  {
   "cell_type": "code",
   "execution_count": 12,
   "id": "127aaa81",
   "metadata": {},
   "outputs": [
    {
     "name": "stdout",
     "output_type": "stream",
     "text": [
      "Jeruk\n",
      "Mangga\n",
      "Anggur\n",
      "Pisang\n",
      "Pepaya\n",
      " \n",
      "nomer:  (1, 2, 3, 4, 5)\n",
      "Jumlah dari nomer adalah 15\n"
     ]
    }
   ],
   "source": [
    "#%%%%%%%%%%%%%%%%%%%%%%%%%%%%%%%%%%%%%%%%%%%%%%%%%%%%%%%%%%%%%%%%%%%%%%%%%%%%%%%%%%%%%%%%%%%%%%%%%%%%%%%%%%%%%%%%%%%%%%%%%%%%%%%\n",
    "#MENGGUNAKAN PERULANGAN FOR UNTUK MENGULANGI DAFTAR ATAU TUPLE PYTHON\n",
    "#%%%%%%%%%%%%%%%%%%%%%%%%%%%%%%%%%%%%%%%%%%%%%%%%%%%%%%%%%%%%%%%%%%%%%%%%%%%%%%%%%%%%%%%%%%%%%%%%%%%%%%%%%%%%%%%%%%%%%%%%%%%%%%%\n",
    "\n",
    "#Daftar dan Tuple adalah objek yang dapat diubah. \n",
    "#Mari kita lihat bagaimana kita bisa mengulang elemen didalam objek ini sekarang.\n",
    "buah = ['Jeruk', 'Mangga', 'Anggur', 'Pisang', 'Pepaya']\n",
    "for a in buah:\n",
    "    print(a)\n",
    "    \n",
    "\n",
    "#Sekarang, kita coba mengerjakan perulangan elemen tuple \n",
    "print(' ')\n",
    "nomer = (1,2,3,4,5)\n",
    "print('nomer: ', nomer)\n",
    "jumlah_nomer = 0\n",
    "for no in nomer:\n",
    "    jumlah_nomer = jumlah_nomer + no\n",
    "print(f'Jumlah dari nomer adalah {jumlah_nomer}')"
   ]
  },
  {
   "cell_type": "code",
   "execution_count": 13,
   "id": "5809cf00",
   "metadata": {},
   "outputs": [
    {
     "name": "stdout",
     "output_type": "stream",
     "text": [
      "Baris berikut akan mencetak setiap huruf dari Selasa\n",
      "S\n",
      "e\n",
      "l\n",
      "a\n",
      "s\n",
      "a\n",
      "Baris berikut akan mencetak setiap huruf dari Kamis\n",
      "K\n",
      "a\n",
      "m\n",
      "i\n",
      "s\n",
      "Baris berikut akan mencetak setiap huruf dari Sabtu\n",
      "S\n",
      "a\n",
      "b\n",
      "t\n",
      "u\n"
     ]
    }
   ],
   "source": [
    "#ketika kita memiliki for loop di dalam for loop lainnya, itu disebut nested for loop.\n",
    "#loop pertama (loop induk) akan membahas kata-kata satu per satu\n",
    "#loop kedua (loop anak) akan mengulang karakter dari setiap kata\n",
    "words = ['Selasa', 'Kamis', 'Sabtu']\n",
    "for word in words:\n",
    "    #loop ini mengambil kata dari daftar variabel\n",
    "    print(\"Baris berikut akan mencetak setiap huruf dari \"+word)\n",
    "    for letter in word:\n",
    "        #loop ini mengambil data dari daftar variabel\n",
    "        print(letter)"
   ]
  },
  {
   "cell_type": "code",
   "execution_count": 14,
   "id": "d5a351e7",
   "metadata": {},
   "outputs": [
    {
     "name": "stdout",
     "output_type": "stream",
     "text": [
      "Jumlah huruf positif adalah: 17\n"
     ]
    }
   ],
   "source": [
    "#%%%%%%%%%%%%%%%%%%%%%%%%%%%%%%%%%%%%%%%%%%%%%%%%%%%%%%%%%%%%%%%%%%%%%%%%%%%%%%%%%%%%%%%%%%%%%%%%%%%%%%%%%%%%%%%%%%%%%%%%%%%%%%%\n",
    "#PERNYATAAN CONTINUE DENGAN FOR LOOP\n",
    "#%%%%%%%%%%%%%%%%%%%%%%%%%%%%%%%%%%%%%%%%%%%%%%%%%%%%%%%%%%%%%%%%%%%%%%%%%%%%%%%%%%%%%%%%%%%%%%%%%%%%%%%%%%%%%%%%%%%%%%%%%%%%%%%\n",
    "\n",
    "#kita dapat menggunakan pernyataan continue di dalam for loop untuk melewati eksekusi for loop body untuk kondisi tertentu\n",
    "#katakanlah kita memiliki daftar angka dan kita akan mencetak jumlah angka positif.\n",
    "#kita dapat menggunakan pernyataan continue untuk melewati perulangan for untuk bilangan negatif\n",
    "nums = [1, -2, -3, 4, 5, -6, 7]\n",
    "sum_positif = 0\n",
    "for num in nums:\n",
    "    if num < 0:\n",
    "        continue\n",
    "    sum_positif += num\n",
    "print(f'Jumlah huruf positif adalah: {sum_positif}')"
   ]
  },
  {
   "cell_type": "markdown",
   "id": "12f26332",
   "metadata": {},
   "source": [
    "# 5.15 Fungsi *range*"
   ]
  },
  {
   "cell_type": "code",
   "execution_count": 15,
   "id": "e62ae2de",
   "metadata": {},
   "outputs": [
    {
     "name": "stdout",
     "output_type": "stream",
     "text": [
      "range(0, 7)\n"
     ]
    }
   ],
   "source": [
    "angka = range(7)\n",
    "print(angka)\n",
    "#karena angka didefinisikan dengan range(7), maka program akan secara otomatis menangkap bahwa batasnya adalah 7"
   ]
  },
  {
   "cell_type": "code",
   "execution_count": 16,
   "id": "50e44a83",
   "metadata": {},
   "outputs": [
    {
     "name": "stdout",
     "output_type": "stream",
     "text": [
      "0\n",
      "1\n",
      "2\n",
      "3\n",
      "4\n",
      "5\n",
      "6\n"
     ]
    }
   ],
   "source": [
    "for isi in angka:\n",
    "    print(isi)\n",
    "#sesuai definisi sebelumnya bahwa rangenya adalah (0,7), maka program akan menglist isi dari range tersebut"
   ]
  },
  {
   "cell_type": "code",
   "execution_count": 18,
   "id": "b709e5ec",
   "metadata": {},
   "outputs": [
    {
     "name": "stdout",
     "output_type": "stream",
     "text": [
      "0\n",
      "3\n",
      "6\n",
      "9\n",
      "12\n"
     ]
    }
   ],
   "source": [
    "for isi in range(0,15,3):\n",
    "    print(isi)\n",
    "    \n",
    "#kode program ini akan mencetak bilangan kelipatan 3 dari range angka 0 sampai 15"
   ]
  },
  {
   "cell_type": "code",
   "execution_count": 19,
   "id": "2a63fd1c",
   "metadata": {},
   "outputs": [
    {
     "name": "stdout",
     "output_type": "stream",
     "text": [
      "27\n"
     ]
    }
   ],
   "source": [
    "#Percobaan mencari bilangan terbesar dari variabel list\n",
    "data = [1, 2, -3, 8, 10, -20, -100, 27]\n",
    "terbesar = data[0]\n",
    "for i in range(len(data)):\n",
    "    if data[i] > terbesar:\n",
    "        terbesar = data[i]\n",
    "print(terbesar)"
   ]
  }
 ],
 "metadata": {
  "kernelspec": {
   "display_name": "Python 3 (ipykernel)",
   "language": "python",
   "name": "python3"
  },
  "language_info": {
   "codemirror_mode": {
    "name": "ipython",
    "version": 3
   },
   "file_extension": ".py",
   "mimetype": "text/x-python",
   "name": "python",
   "nbconvert_exporter": "python",
   "pygments_lexer": "ipython3",
   "version": "3.9.13"
  }
 },
 "nbformat": 4,
 "nbformat_minor": 5
}
