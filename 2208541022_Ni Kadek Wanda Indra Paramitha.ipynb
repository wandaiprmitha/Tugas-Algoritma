{
 "cells": [
  {
   "cell_type": "code",
   "execution_count": 1,
   "id": "07fda6eb",
   "metadata": {},
   "outputs": [
    {
     "name": "stdout",
     "output_type": "stream",
     "text": [
      "hallo nama saya Wanda!\n",
      "hari ini kita belajar algoritma.\n"
     ]
    }
   ],
   "source": [
    "print(\"hallo nama saya Wanda!\")\n",
    "print('hari ini kita belajar algoritma.')\n",
    "#Perintah print digunakan untuk mencetak tulisan yang ada dalam tanda print(\" \") atau print(' ')."
   ]
  },
  {
   "cell_type": "code",
   "execution_count": 4,
   "id": "779bf2e5",
   "metadata": {},
   "outputs": [
    {
     "ename": "SyntaxError",
     "evalue": "invalid syntax (3193382045.py, line 1)",
     "output_type": "error",
     "traceback": [
      "\u001b[1;36m  File \u001b[1;32m\"C:\\Users\\ASUS\\AppData\\Local\\Temp\\ipykernel_6260\\3193382045.py\"\u001b[1;36m, line \u001b[1;32m1\u001b[0m\n\u001b[1;33m    print(hallo nama saya Wanda!)\u001b[0m\n\u001b[1;37m                ^\u001b[0m\n\u001b[1;31mSyntaxError\u001b[0m\u001b[1;31m:\u001b[0m invalid syntax\n"
     ]
    }
   ],
   "source": [
    "print(hallo nama saya Wanda!)\n",
    "#Penggunaan tanda petik (\" \") atau (' ') sangat penting, karena tanpanya hasilnya akan error."
   ]
  },
  {
   "cell_type": "code",
   "execution_count": 5,
   "id": "21ef5752",
   "metadata": {},
   "outputs": [
    {
     "ename": "SyntaxError",
     "evalue": "EOL while scanning string literal (4101236369.py, line 1)",
     "output_type": "error",
     "traceback": [
      "\u001b[1;36m  File \u001b[1;32m\"C:\\Users\\ASUS\\AppData\\Local\\Temp\\ipykernel_6260\\4101236369.py\"\u001b[1;36m, line \u001b[1;32m1\u001b[0m\n\u001b[1;33m    print(\"hari ini kita belajar algoritma.')\u001b[0m\n\u001b[1;37m                                             ^\u001b[0m\n\u001b[1;31mSyntaxError\u001b[0m\u001b[1;31m:\u001b[0m EOL while scanning string literal\n"
     ]
    }
   ],
   "source": [
    "print(\"hari ini kita belajar algoritma.')\n",
    "#Penggunaan tanda petik juga tidak boleh berbeda. Penggunaan tanda petik yang tidak cocok menyebabkan sintaks tidak valid"
   ]
  },
  {
   "cell_type": "code",
   "execution_count": 6,
   "id": "acfbe8a5",
   "metadata": {},
   "outputs": [
    {
     "ename": "SyntaxError",
     "evalue": "invalid syntax (2354562698.py, line 1)",
     "output_type": "error",
     "traceback": [
      "\u001b[1;36m  File \u001b[1;32m\"C:\\Users\\ASUS\\AppData\\Local\\Temp\\ipykernel_6260\\2354562698.py\"\u001b[1;36m, line \u001b[1;32m1\u001b[0m\n\u001b[1;33m    print('I don't understand')\u001b[0m\n\u001b[1;37m                 ^\u001b[0m\n\u001b[1;31mSyntaxError\u001b[0m\u001b[1;31m:\u001b[0m invalid syntax\n"
     ]
    }
   ],
   "source": [
    "print('I don't understand')\n",
    "#pada kasus ini, sintaks juga tidak valid dikarenakan dalam tanda () terdapat 3 tanda petik yang sama sehingga program tidak dapat mendeteksinya"
   ]
  },
  {
   "cell_type": "code",
   "execution_count": 8,
   "id": "c9421b2b",
   "metadata": {},
   "outputs": [
    {
     "name": "stdout",
     "output_type": "stream",
     "text": [
      "I don't understand\n",
      "He is such a \"GENIUS\"\n"
     ]
    }
   ],
   "source": [
    "#kasus di atas dapat diakali dengan menggunakan tanda kutip yang berbeda dalam kurung\n",
    "print(\"I don't understand\")\n",
    "print('He is such a \"GENIUS\"')"
   ]
  },
  {
   "cell_type": "code",
   "execution_count": 11,
   "id": "d2d13aca",
   "metadata": {},
   "outputs": [
    {
     "ename": "TypeError",
     "evalue": "'builtin_function_or_method' object is not subscriptable",
     "output_type": "error",
     "traceback": [
      "\u001b[1;31m---------------------------------------------------------------------------\u001b[0m",
      "\u001b[1;31mTypeError\u001b[0m                                 Traceback (most recent call last)",
      "\u001b[1;32m~\\AppData\\Local\\Temp\\ipykernel_6260\\1204727189.py\u001b[0m in \u001b[0;36m<module>\u001b[1;34m\u001b[0m\n\u001b[1;32m----> 1\u001b[1;33m \u001b[0mprint\u001b[0m\u001b[1;33m[\u001b[0m\u001b[1;34m\"hallo\"\u001b[0m\u001b[1;33m]\u001b[0m\u001b[1;33m\u001b[0m\u001b[1;33m\u001b[0m\u001b[0m\n\u001b[0m\u001b[0;32m      2\u001b[0m \u001b[1;31m#Jenis tanda kurung juga penting,jenis tanda yang valid adalah ()\u001b[0m\u001b[1;33m\u001b[0m\u001b[1;33m\u001b[0m\u001b[0m\n",
      "\u001b[1;31mTypeError\u001b[0m: 'builtin_function_or_method' object is not subscriptable"
     ]
    }
   ],
   "source": [
    "print[\"hallo\"]\n",
    "#Jenis tanda kurung juga penting,jenis tanda yang valid adalah ()"
   ]
  },
  {
   "cell_type": "code",
   "execution_count": 16,
   "id": "472bafbf",
   "metadata": {},
   "outputs": [],
   "source": [
    "mahasiswa = 22"
   ]
  },
  {
   "cell_type": "code",
   "execution_count": 13,
   "id": "4a87eb60",
   "metadata": {},
   "outputs": [
    {
     "data": {
      "text/plain": [
       "22"
      ]
     },
     "execution_count": 13,
     "metadata": {},
     "output_type": "execute_result"
    }
   ],
   "source": [
    "mahasiswa\n",
    "#program akan mengingat apa yang kita Run sebelumnya"
   ]
  },
  {
   "cell_type": "code",
   "execution_count": 14,
   "id": "24b1400c",
   "metadata": {},
   "outputs": [],
   "source": [
    "#kita coba pada syntax ini tidak di Run\n",
    "mahasiswa = 40"
   ]
  },
  {
   "cell_type": "code",
   "execution_count": 17,
   "id": "93b34a72",
   "metadata": {},
   "outputs": [
    {
     "data": {
      "text/plain": [
       "22"
      ]
     },
     "execution_count": 17,
     "metadata": {},
     "output_type": "execute_result"
    }
   ],
   "source": [
    "mahasiswa\n",
    "#output yang dihasilkan adalah hasil Run terakhir kali"
   ]
  },
  {
   "cell_type": "code",
   "execution_count": 19,
   "id": "1c3c21bf",
   "metadata": {},
   "outputs": [
    {
     "ename": "SyntaxError",
     "evalue": "invalid syntax (2992961705.py, line 1)",
     "output_type": "error",
     "traceback": [
      "\u001b[1;36m  File \u001b[1;32m\"C:\\Users\\ASUS\\AppData\\Local\\Temp\\ipykernel_6260\\2992961705.py\"\u001b[1;36m, line \u001b[1;32m1\u001b[0m\n\u001b[1;33m    mahasiswa kelas A = 40\u001b[0m\n\u001b[1;37m              ^\u001b[0m\n\u001b[1;31mSyntaxError\u001b[0m\u001b[1;31m:\u001b[0m invalid syntax\n"
     ]
    }
   ],
   "source": [
    "mahasiswa kelas A = 40\n",
    "print(mahasiswa kelas A)\n",
    "#pada deskripsi perintah tidak boleh ada spasi, kasus ini dapat diakali dengan memberikan tanda penghubung berupa _ (underscore)"
   ]
  },
  {
   "cell_type": "code",
   "execution_count": 20,
   "id": "23a9d976",
   "metadata": {},
   "outputs": [
    {
     "name": "stdout",
     "output_type": "stream",
     "text": [
      "40\n"
     ]
    }
   ],
   "source": [
    "mahasiswa_kelas_A = 40\n",
    "print(mahasiswa_kelas_A)\n",
    "#ini adalah perintah yang benar"
   ]
  },
  {
   "cell_type": "code",
   "execution_count": 22,
   "id": "8ec2a5e6",
   "metadata": {},
   "outputs": [
    {
     "name": "stdout",
     "output_type": "stream",
     "text": [
      "LeeJeno\n"
     ]
    }
   ],
   "source": [
    "nama_depan = 'Lee'\n",
    "nama_belakang = 'Jeno'\n",
    "print(nama_depan+nama_belakang)"
   ]
  },
  {
   "cell_type": "code",
   "execution_count": 24,
   "id": "822f0130",
   "metadata": {},
   "outputs": [
    {
     "name": "stdout",
     "output_type": "stream",
     "text": [
      "Lee Jeno\n",
      "Lee                     Jeno\n"
     ]
    }
   ],
   "source": [
    "nama_depan = 'Lee'\n",
    "nama_belakang = 'Jeno'\n",
    "print(nama_depan+' '+nama_belakang)\n",
    "#untuk menambahkan spasi pada output kita bisa menambahkan tanda ' ' pada perintah print\n",
    "print(nama_depan+'                     '+nama_belakang)\n",
    "#kita juga bisa mengatur seberapa panjang spasi yang diinginkan"
   ]
  },
  {
   "cell_type": "code",
   "execution_count": 25,
   "id": "8fae29cb",
   "metadata": {},
   "outputs": [
    {
     "name": "stdout",
     "output_type": "stream",
     "text": [
      "Ni Kadek Wanda Indra Paramitha\n"
     ]
    }
   ],
   "source": [
    "nama = 'Ni Kadek Wanda Indra Paramitha'\n",
    "print(nama)\n",
    "#kita juga dapat menggunakan perintah seperti ini untuk mempermudah saat pengetikkan nama yang panjang"
   ]
  },
  {
   "cell_type": "code",
   "execution_count": 27,
   "id": "244df065",
   "metadata": {},
   "outputs": [
    {
     "name": "stdout",
     "output_type": "stream",
     "text": [
      "masukkan nama Anda : Wanda\n",
      "hallo Wanda\n"
     ]
    }
   ],
   "source": [
    "nama = input('masukkan nama Anda : ')\n",
    "print(\"hallo\"+' '+nama)\n",
    "#kita juga bisa membuat program seperti ini, output dari nama akan sesuai dengan apa yang kita ketikkan di input"
   ]
  },
  {
   "cell_type": "code",
   "execution_count": 28,
   "id": "f91ce4fa",
   "metadata": {},
   "outputs": [
    {
     "name": "stdout",
     "output_type": "stream",
     "text": [
      "input nama : Wanda\n",
      "matkul hari ini Algoritma & Struktur Data\n",
      "hari Senin\n",
      "Selamat hari Senin Wanda, hari ini kita belajar Algoritma & Struktur Data\n"
     ]
    }
   ],
   "source": [
    "nama = input('input nama : ')\n",
    "matkul = input('matkul hari ini ')\n",
    "hari = input('hari ')\n",
    "print(\"Selamat hari\"+' '+hari+\" \"+nama+','+' '+\"hari ini kita belajar\"+' '+matkul)"
   ]
  },
  {
   "cell_type": "code",
   "execution_count": 29,
   "id": "248d97aa",
   "metadata": {},
   "outputs": [
    {
     "name": "stdout",
     "output_type": "stream",
     "text": [
      "masukkan namamu : Wanda\n",
      "tulis pesanmu : semangat hari ini!\n",
      "hallo Wanda semangat hari ini!\n"
     ]
    }
   ],
   "source": [
    "nama = input('masukkan namamu : ')\n",
    "pesan = input('tulis pesanmu : ')\n",
    "print(\"hallo\"+' '+nama+' '+pesan)\n",
    "#perintah input membuat output program lebih bervariasi"
   ]
  },
  {
   "cell_type": "code",
   "execution_count": 1,
   "id": "dd2ccf3e",
   "metadata": {},
   "outputs": [
    {
     "name": "stdout",
     "output_type": "stream",
     "text": [
      "uang saya di atm ada 100000\n",
      "uang saya di dompet ada 50000\n",
      "jadi total uang saya secara keseluruhan adalah 10000050000\n"
     ]
    }
   ],
   "source": [
    "atm = input('uang saya di atm ada ')\n",
    "dompet = input('uang saya di dompet ada ')\n",
    "print(\"jadi total uang saya secara keseluruhan adalah \"+atm+dompet)\n",
    "#untuk menghitung total uang keseluruhan, tidak bisa menggunakan perintah print seperti di atas. \n",
    "#perintah seperti pada di atas hanya akan mencetak angka yang kita masukkan, bukan menjumlahkannya"
   ]
  },
  {
   "cell_type": "code",
   "execution_count": 16,
   "id": "a6a0df27",
   "metadata": {},
   "outputs": [
    {
     "name": "stdout",
     "output_type": "stream",
     "text": [
      "uang saya di atm ada 100000\n",
      "uang saya di dompet ada 50000\n",
      "total uang saya adalah 150000\n"
     ]
    }
   ],
   "source": [
    "#untuk mencetak jumlah, kita bisa membuat program seperti di bawah ini\n",
    "atm = input('uang saya di atm ada ')\n",
    "dompet = input('uang saya di dompet ada ')\n",
    "total_uang = int(atm)+int(dompet)\n",
    "print('total uang saya adalah '+ str(total_uang))"
   ]
  },
  {
   "cell_type": "code",
   "execution_count": 12,
   "id": "0d6da866",
   "metadata": {},
   "outputs": [
    {
     "name": "stdout",
     "output_type": "stream",
     "text": [
      "uang saya di atm ada 187.227\n",
      "uang saya di dompet ada 50.000\n",
      "jadi total uang saya secara keseluruhan adalah 237.227\n"
     ]
    }
   ],
   "source": [
    "atm = input('uang saya di atm ada ')\n",
    "dompet = input('uang saya di dompet ada ')\n",
    "total = float(atm)+float(dompet)\n",
    "#kalo mau ada desimalnya harus pake \"float\", karna tipe data \"int\" tidak mendektsi pecahan desimal\n",
    "print(\"jadi total uang saya secara keseluruhan adalah \"+ str(total))"
   ]
  },
  {
   "cell_type": "code",
   "execution_count": 13,
   "id": "b1b45a11",
   "metadata": {},
   "outputs": [
    {
     "name": "stdout",
     "output_type": "stream",
     "text": [
      "uang saya di atm ada 187,227\n",
      "uang saya di dompet ada 50,000\n"
     ]
    },
    {
     "ename": "ValueError",
     "evalue": "could not convert string to float: '187,227'",
     "output_type": "error",
     "traceback": [
      "\u001b[1;31m---------------------------------------------------------------------------\u001b[0m",
      "\u001b[1;31mValueError\u001b[0m                                Traceback (most recent call last)",
      "\u001b[1;32m~\\AppData\\Local\\Temp\\ipykernel_6944\\1157669329.py\u001b[0m in \u001b[0;36m<module>\u001b[1;34m\u001b[0m\n\u001b[0;32m      1\u001b[0m \u001b[0matm\u001b[0m \u001b[1;33m=\u001b[0m \u001b[0minput\u001b[0m\u001b[1;33m(\u001b[0m\u001b[1;34m'uang saya di atm ada '\u001b[0m\u001b[1;33m)\u001b[0m\u001b[1;33m\u001b[0m\u001b[1;33m\u001b[0m\u001b[0m\n\u001b[0;32m      2\u001b[0m \u001b[0mdompet\u001b[0m \u001b[1;33m=\u001b[0m \u001b[0minput\u001b[0m\u001b[1;33m(\u001b[0m\u001b[1;34m'uang saya di dompet ada '\u001b[0m\u001b[1;33m)\u001b[0m\u001b[1;33m\u001b[0m\u001b[1;33m\u001b[0m\u001b[0m\n\u001b[1;32m----> 3\u001b[1;33m \u001b[0mtotal\u001b[0m \u001b[1;33m=\u001b[0m \u001b[0mfloat\u001b[0m\u001b[1;33m(\u001b[0m\u001b[0matm\u001b[0m\u001b[1;33m)\u001b[0m\u001b[1;33m+\u001b[0m\u001b[0mfloat\u001b[0m\u001b[1;33m(\u001b[0m\u001b[0mdompet\u001b[0m\u001b[1;33m)\u001b[0m\u001b[1;33m\u001b[0m\u001b[1;33m\u001b[0m\u001b[0m\n\u001b[0m\u001b[0;32m      4\u001b[0m \u001b[0mprint\u001b[0m\u001b[1;33m(\u001b[0m\u001b[1;34m\"jadi total uang saya secara keseluruhan adalah \"\u001b[0m\u001b[1;33m+\u001b[0m \u001b[0mstr\u001b[0m\u001b[1;33m(\u001b[0m\u001b[0mtotal\u001b[0m\u001b[1;33m)\u001b[0m\u001b[1;33m)\u001b[0m\u001b[1;33m\u001b[0m\u001b[1;33m\u001b[0m\u001b[0m\n\u001b[0;32m      5\u001b[0m \u001b[1;31m#namun, untuk mendeskripsikan pecahan desimal kita harus gunakan tanda '.' jika kita gunakan tanda ',' maka syntax akan error\u001b[0m\u001b[1;33m\u001b[0m\u001b[1;33m\u001b[0m\u001b[0m\n",
      "\u001b[1;31mValueError\u001b[0m: could not convert string to float: '187,227'"
     ]
    }
   ],
   "source": [
    "atm = input('uang saya di atm ada ')\n",
    "dompet = input('uang saya di dompet ada ')\n",
    "total = float(atm)+float(dompet)\n",
    "print(\"jadi total uang saya secara keseluruhan adalah \"+ str(total))\n",
    "#namun, untuk mendeskripsikan pecahan desimal kita harus gunakan tanda '.' jika kita gunakan tanda ',' maka syntax akan error"
   ]
  },
  {
   "cell_type": "code",
   "execution_count": 17,
   "id": "0cd45d8c",
   "metadata": {},
   "outputs": [
    {
     "data": {
      "text/plain": [
       "str"
      ]
     },
     "execution_count": 17,
     "metadata": {},
     "output_type": "execute_result"
    }
   ],
   "source": [
    "type(dompet)"
   ]
  },
  {
   "cell_type": "code",
   "execution_count": 18,
   "id": "3f453403",
   "metadata": {},
   "outputs": [
    {
     "data": {
      "text/plain": [
       "int"
      ]
     },
     "execution_count": 18,
     "metadata": {},
     "output_type": "execute_result"
    }
   ],
   "source": [
    "type(total_uang)"
   ]
  },
  {
   "cell_type": "code",
   "execution_count": 19,
   "id": "afcb4743",
   "metadata": {},
   "outputs": [
    {
     "data": {
      "text/plain": [
       "float"
      ]
     },
     "execution_count": 19,
     "metadata": {},
     "output_type": "execute_result"
    }
   ],
   "source": [
    "type(total)\n",
    "#kode ini digunakan untuk melihat tipe data tiap variabel"
   ]
  },
  {
   "cell_type": "code",
   "execution_count": 20,
   "id": "f7db03d7",
   "metadata": {},
   "outputs": [
    {
     "name": "stdout",
     "output_type": "stream",
     "text": [
      "Mark adalah seorang Idol yang berasal dari negara korea\n"
     ]
    }
   ],
   "source": [
    "nama = 'Mark'\n",
    "pekerjaan = 'Idol'\n",
    "negara = \"korea\"\n",
    "print(nama+' adalah seorang '+pekerjaan+' yang berasal dari negara '+negara)"
   ]
  },
  {
   "cell_type": "code",
   "execution_count": 23,
   "id": "14e1ca2d",
   "metadata": {},
   "outputs": [
    {
     "name": "stdout",
     "output_type": "stream",
     "text": [
      "Mark adalah seorang Idol yang berasal dari negara korea\n"
     ]
    }
   ],
   "source": [
    "print(f'{nama} adalah seorang {pekerjaan} yang berasal dari negara {negara}')\n",
    "#formatted string seperti pada contoh di atas digunakan untuk mempermudah penulisan variabel"
   ]
  },
  {
   "cell_type": "code",
   "execution_count": 25,
   "id": "c4d21b2a",
   "metadata": {},
   "outputs": [
    {
     "name": "stdout",
     "output_type": "stream",
     "text": [
      "(nama) adalah seorang (pekerjaan) yang berasal dari negara (negara)\n",
      "[nama] adalah seorang [pekerjaan] yang berasal dari negara [negara]\n"
     ]
    }
   ],
   "source": [
    "#tanda kurung yang digunakan haruslah kurung {}\n",
    "#jika kita gunakan jenis kurung yang lain maka output yang dihasilkan akan mengikuti apa yang kita ketik\n",
    "#untuk lebih jelasnya dapat dilihat pada contoh dibawah\n",
    "print(f'(nama) adalah seorang (pekerjaan) yang berasal dari negara (negara)')\n",
    "print(f'[nama] adalah seorang [pekerjaan] yang berasal dari negara [negara]')"
   ]
  },
  {
   "cell_type": "code",
   "execution_count": 30,
   "id": "ed1701c3",
   "metadata": {},
   "outputs": [
    {
     "data": {
      "text/plain": [
       "True"
      ]
     },
     "execution_count": 30,
     "metadata": {},
     "output_type": "execute_result"
    }
   ],
   "source": [
    "bool(\"this girl is beautiful\")"
   ]
  },
  {
   "cell_type": "code",
   "execution_count": 34,
   "id": "697f32fa",
   "metadata": {},
   "outputs": [
    {
     "name": "stdout",
     "output_type": "stream",
     "text": [
      "True\n"
     ]
    }
   ],
   "source": [
    "print(bool(\"this girl is beautiful\"))"
   ]
  },
  {
   "cell_type": "code",
   "execution_count": null,
   "id": "ce12da4f",
   "metadata": {},
   "outputs": [],
   "source": []
  },
  {
   "cell_type": "code",
   "execution_count": null,
   "id": "0c47e1c5",
   "metadata": {},
   "outputs": [],
   "source": []
  }
 ],
 "metadata": {
  "kernelspec": {
   "display_name": "Python 3 (ipykernel)",
   "language": "python",
   "name": "python3"
  },
  "language_info": {
   "codemirror_mode": {
    "name": "ipython",
    "version": 3
   },
   "file_extension": ".py",
   "mimetype": "text/x-python",
   "name": "python",
   "nbconvert_exporter": "python",
   "pygments_lexer": "ipython3",
   "version": "3.9.13"
  }
 },
 "nbformat": 4,
 "nbformat_minor": 5
}
